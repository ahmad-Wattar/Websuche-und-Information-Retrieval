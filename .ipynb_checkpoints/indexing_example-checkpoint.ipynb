{
 "cells": [
  {
   "cell_type": "code",
   "execution_count": null,
   "metadata": {},
   "outputs": [],
   "source": [
    "import os\n",
    "from tqdm import tqdm\n",
    "\n",
    "path = 'data/otvety-questions-new/otvety-questions/' ### path to a dir with txt files \n",
    "\n",
    "data_processed = []\n",
    "for filename in tqdm(os.listdir(path)):\n",
    "    data = []\n",
    "    with open(path + filename, 'r') as file:\n",
    "        for line in file:\n",
    "            data.append(line.strip('\\n'))\n",
    "    file.close()\n",
    "    data_processed.append(data)\n",
    "flat_data = [item for sublist in data_processed for item in sublist]"
   ]
  },
  {
   "cell_type": "code",
   "execution_count": null,
   "metadata": {},
   "outputs": [],
   "source": [
    "pip install elasticsearch"
   ]
  },
  {
   "cell_type": "code",
   "execution_count": null,
   "metadata": {},
   "outputs": [],
   "source": [
    "%%time\n",
    "from elasticsearch import Elasticsearch\n",
    "from elasticsearch import helpers\n",
    "from tqdm import tqdm\n",
    "\n",
    "es = Elasticsearch()\n",
    "\n",
    "data = [\n",
    "  {\n",
    "    \"_index\": \"otvety-questions\",\n",
    "    \"_type\": \"questions\",\n",
    "    \"_id\": i,\n",
    "    \"_source\": {\n",
    "        \"question\":question}\n",
    "  }\n",
    "  for i, question in enumerate(flat_data) # flat_data is a list of str, where each element is a document\n",
    "]\n",
    "\n",
    "del flat_data # release memory\n",
    "\n",
    "print('-----> indexing')\n",
    "\n",
    "helpers.bulk(es, data, chunk_size=300, request_timeout=200)\n",
    "\n",
    "del data # release memory"
   ]
  },
  {
   "cell_type": "code",
   "execution_count": null,
   "metadata": {},
   "outputs": [],
   "source": [
    "%%time\n",
    "import re\n",
    "import string\n",
    "\n",
    "regex_pattern = re.compile(\"([%s \\n])\" % string.punctuation)\n",
    "\n",
    "def highlighter(content, terms_to_hightlight):    ### fancy function to highlight query terms\n",
    "    tokens = regex_pattern.split(content)\n",
    "    for token in tokens:\n",
    "        if token.lower() in terms_to_hightlight:\n",
    "            print('\\x1b[5;30;32m' + token + '\\x1b[0m', end=\"\")\n",
    "        else:\n",
    "            print(token, end=\"\")\n",
    "\n",
    "from elasticsearch import Elasticsearch\n",
    "from tqdm import tqdm\n",
    "\n",
    "es = Elasticsearch(timeout=300)\n",
    "\n",
    "query = '' # submit a query \n",
    "\n",
    "res = es.search(index=\"otvety-answers\", doc_type=\"answers\", body={\n",
    "\"size\" : 100,\n",
    "\"query\": {\n",
    "\"match\": {\n",
    "   \"answer\": {\"query\" : query,\n",
    "             \"minimum_should_match\": '100%',\n",
    "             \"fuzziness\" : 1#,\n",
    "             #\"auto_generate_synonyms_phrase_query\" : 'true'\n",
    "             }\n",
    "     }\n",
    "   }\n",
    "}\n",
    ", explain=True)\n",
    "\n",
    "print(\"%d documents found\" % res['hits']['total'])\n",
    "count = 1\n",
    "for doc in res['hits']['hits']:\n",
    "    print(count)\n",
    "    highlighter((\"%s ** %s\" % (doc['_id'], doc['_source']['answer'])), query.split())\n",
    "    print('---------------------------------------------------')\n",
    "    count += 1\n",
    "print('---------------------------------------------------')\n",
    "del res # release memory"
   ]
  },
  {
   "cell_type": "code",
   "execution_count": null,
   "metadata": {},
   "outputs": [],
   "source": [
    "from elasticsearch import Elasticsearch\n",
    "\n",
    "es = Elasticsearch()\n",
    "#es.indices.delete(index=\"otvety-answers\") # delete index"
   ]
  }
 ],
 "metadata": {
  "kernelspec": {
   "display_name": "Python 3",
   "language": "python",
   "name": "python3"
  },
  "language_info": {
   "codemirror_mode": {
    "name": "ipython",
    "version": 3
   },
   "file_extension": ".py",
   "mimetype": "text/x-python",
   "name": "python",
   "nbconvert_exporter": "python",
   "pygments_lexer": "ipython3",
   "version": "3.7.3"
  }
 },
 "nbformat": 4,
 "nbformat_minor": 2
}
