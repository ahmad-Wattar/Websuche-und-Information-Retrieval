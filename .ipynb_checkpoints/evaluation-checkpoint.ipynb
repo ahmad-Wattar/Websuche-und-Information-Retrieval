{
 "cells": [
  {
   "cell_type": "code",
   "execution_count": 15,
   "metadata": {},
   "outputs": [],
   "source": [
    "import pandas as pd\n",
    "import pytrec_eval\n",
    "import json\n",
    "import sys\n",
    "import re\n",
    "\n",
    "def evaluate_run(run_path, qrel_path):\n",
    "    run = pd.read_csv(run_path, sep = ' ', names = ['topic','Q0','id','rank','score','team'])\n",
    "\n",
    "    #run['topic_mustbe'] = 0\n",
    "\n",
    "    #i = 1\n",
    "    #t = 0\n",
    "    #for idx, row in run.iterrows():\n",
    "        #if row['rank']>1:\n",
    "            #run.at[idx,'topic_mustbe']=t\n",
    "        #else:\n",
    "            #t+=1\n",
    "            #run.at[idx,'topic_mustbe']=t\n",
    "\n",
    "#'touche2020-task2-relevance-withbaseline(1).qrels'\n",
    "    qrel = pd.read_csv(qrel_path, sep = ' ', names = ['topic','Q0','id','relevance'])\n",
    "\n",
    "    qrels = {}\n",
    "    for i in range(1,51):\n",
    "        qrels[str(i)] = {}\n",
    "    \n",
    "    for idx, row in qrel.iterrows():\n",
    "        qrels[str(row['topic'])][row['id']] = row['relevance']\n",
    "    \n",
    "    runs = {}\n",
    "    for i in range(1,51):\n",
    "        runs[str(i)] = {}\n",
    "    \n",
    "    for idx, row in run.iterrows():\n",
    "        runs[str(row['topic'])][row['id']] = row['score']\n",
    "\n",
    "    evaluator = pytrec_eval.RelevanceEvaluator(\n",
    "        qrels, {'map_cut', 'ndcg_cut'})\n",
    "\n",
    "    res = evaluator.evaluate(runs)\n",
    "\n",
    "    results = {}\n",
    "    for key in res:\n",
    "        results[key] = res[key]['ndcg_cut_10']\n",
    "    \n",
    "    filename = re.split('\\.', sys.argv[1])\n",
    "    with open((filename[0]+'_evaluated.json'), 'w') as f:\n",
    "        json.dump(results, f)\n",
    "        \n",
    "evaluate_run(sys.argv[1], sys.argv[2])"
   ]
  }
 ],
 "metadata": {
  "kernelspec": {
   "display_name": "Python 3",
   "language": "python",
   "name": "python3"
  },
  "language_info": {
   "codemirror_mode": {
    "name": "ipython",
    "version": 3
   },
   "file_extension": ".py",
   "mimetype": "text/x-python",
   "name": "python",
   "nbconvert_exporter": "python",
   "pygments_lexer": "ipython3",
   "version": "3.7.6"
  }
 },
 "nbformat": 4,
 "nbformat_minor": 4
}
