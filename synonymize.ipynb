{
 "cells": [
  {
   "cell_type": "code",
   "execution_count": 1,
   "metadata": {},
   "outputs": [
    {
     "name": "stderr",
     "output_type": "stream",
     "text": [
      "[nltk_data] Downloading package stopwords to /home/katya/nltk_data...\n",
      "[nltk_data]   Package stopwords is already up-to-date!\n",
      "[nltk_data] Downloading package punkt to /home/katya/nltk_data...\n",
      "[nltk_data]   Package punkt is already up-to-date!\n"
     ]
    },
    {
     "data": {
      "text/plain": [
       "True"
      ]
     },
     "execution_count": 1,
     "metadata": {},
     "output_type": "execute_result"
    }
   ],
   "source": [
    "from nltk.tokenize import word_tokenize\n",
    "from nltk.stem import WordNetLemmatizer \n",
    "from nltk.corpus import stopwords\n",
    "import json\n",
    "import nltk\n",
    "from nltk import pos_tag\n",
    "from nltk.corpus import wordnet\n",
    "import re\n",
    "import pickle\n",
    "import pandas as pd\n",
    "nltk.download('stopwords')\n",
    "nltk.download('punkt')"
   ]
  },
  {
   "cell_type": "code",
   "execution_count": 21,
   "metadata": {},
   "outputs": [],
   "source": [
    "with open('data/topics_lemmatized.txt', 'rb') as f:\n",
    "    queries_lem = pickle.load(f)\n",
    "f.close()"
   ]
  },
  {
   "cell_type": "code",
   "execution_count": 22,
   "metadata": {},
   "outputs": [],
   "source": [
    "df = pd.DataFrame(columns = ['query', 'objs', 'syn'])"
   ]
  },
  {
   "cell_type": "code",
   "execution_count": 23,
   "metadata": {},
   "outputs": [
    {
     "name": "stdout",
     "output_type": "stream",
     "text": [
      "                                                query objs  syn\n",
      "0                                 difference sex love  NaN  NaN\n",
      "1                               better laptop desktop  NaN  NaN\n",
      "2                                  better canon nikon  NaN  NaN\n",
      "3                                 best dish detergent  NaN  NaN\n",
      "4                                      best city live  NaN  NaN\n",
      "5                                 longest river u.s .  NaN  NaN\n",
      "6               healthiest coffee green tea black tea  NaN  NaN\n",
      "7        advantage disadvantage php python vice versa  NaN  NaN\n",
      "8                                 linux better window  NaN  NaN\n",
      "9                                        sleep better  NaN  NaN\n",
      "10                               buy lcd tv plasma tv  NaN  NaN\n",
      "11                          train plane better choice  NaN  NaN\n",
      "12                             highest mountain earth  NaN  NaN\n",
      "13           prefer chinese medicine western medicine  NaN  NaN\n",
      "14                            best wash machine brand  NaN  NaN\n",
      "15                                           buy rent  NaN  NaN\n",
      "16                                     prefer cat dog  NaN  NaN\n",
      "17             better way grill outdoors gas charcoal  NaN  NaN\n",
      "18                                      better mac pc  NaN  NaN\n",
      "19                            better use brush sponge  NaN  NaN\n",
      "20                             better linux microsoft  NaN  NaN\n",
      "21                                  better pepsi coke  NaN  NaN\n",
      "22                  better google search yahoo search  NaN  NaN\n",
      "23                         better netflix blockbuster  NaN  NaN\n",
      "24           browser better internet explorer firefox  NaN  NaN\n",
      "25                            better vehicle bmw audi  NaN  NaN\n",
      "26                    better electric stave gas stave  NaN  NaN\n",
      "27                           plane best boeing airbus  NaN  NaN\n",
      "28                     better disneyland disney world  NaN  NaN\n",
      "29                               buy xbox playstation  NaN  NaN\n",
      "30                                caffeine coffee tea  NaN  NaN\n",
      "31                  better lead lcd reception display  NaN  NaN\n",
      "32                                     better asp php  NaN  NaN\n",
      "33        better environment real fake christmas tree  NaN  NaN\n",
      "34                                  prefer tampon pad  NaN  NaN\n",
      "35                   ide better java netbeans eclipse  NaN  NaN\n",
      "36  opengl better direct3d term portability differ...  NaN  NaN\n",
      "37            difference mysql postgresql performance  NaN  NaN\n",
      "38                java code readable code write scala  NaN  NaN\n",
      "39  operate system better performance window 7 win...  NaN  NaN\n",
      "40       smartphone better battery life xperia iphone  NaN  NaN\n",
      "41                four wheel truck better ford toyota  NaN  NaN\n",
      "42      prefer leica camera nikon portrait photograph  NaN  NaN\n",
      "43      company larger capitalization apple microsoft  NaN  NaN\n",
      "44                        laptop better durability hp  NaN  NaN\n",
      "45                  beverage calorie glass beer cider  NaN  NaN\n",
      "46                     admission rate stanford higher  NaN  NaN\n",
      "47                              pasta healthier pizza  NaN  NaN\n",
      "48         city expensive live san francisco new york  NaN  NaN\n",
      "49       whose salary higher basketball soccer player  NaN  NaN\n"
     ]
    }
   ],
   "source": [
    "df['query'] = queries_lem\n",
    "print(df)\n",
    "df.to_csv('data/q_for_syn.tsv', sep = '\\t')"
   ]
  },
  {
   "cell_type": "markdown",
   "metadata": {},
   "source": [
    "## Detect objects manually, then read the file and find synonyms"
   ]
  },
  {
   "cell_type": "code",
   "execution_count": 18,
   "metadata": {},
   "outputs": [
    {
     "name": "stdout",
     "output_type": "stream",
     "text": [
      "sex\n",
      "love\n",
      "sexual activity sex arouse love beloved sexual love sleep together love\n",
      "desktop\n",
      "desktop background desktop\n",
      "canon\n",
      "nikon\n",
      "canon canyon nikon\n",
      "detergent\n",
      "detergent detergent\n",
      "city\n",
      "city city\n",
      "river\n",
      "river river\n",
      "coffee\n",
      "tea\n",
      "coffee coffee bean chocolate tea tea\n",
      "sleep\n",
      "sleep rest sleep\n",
      "train\n",
      "plane\n",
      "train string caravan gearing discipline prepare educate aim coach trail airplane plane flat plane\n",
      "mountain\n",
      "mountain batch mountain\n",
      "medicine\n",
      "medicine music medicate medicine\n",
      "brand\n",
      "trade name brand mark sword stigmatize post brand\n",
      "buy\n",
      "rent\n",
      "bargain buy bribe rent rip economic rent lease rend rent\n",
      "cat\n",
      "dog\n",
      "cat guy kat cat-o'-nine-tails Caterpillar big cat computerized tomography vomit dog frump cad frank pawl andiron chase dog\n",
      "grill\n",
      "grillroom grill grill\n",
      "brush\n",
      "sponge\n",
      "brush sponge quick study leech mooch sponge\n",
      "search\n",
      "search research search\n",
      "stove\n",
      "stove stave stove\n",
      "plane\n",
      "airplane plane flat plane\n",
      "coffee\n",
      "tea\n",
      "coffee coffee bean chocolate tea tea\n",
      "fake\n",
      "tree\n",
      "fake imposter juke forge fudge talk through one's hat bogus tree Tree corner tree\n",
      "tampon\n",
      "pad\n",
      "tampon pad launching pad diggings embroider slog pad\n",
      "portability\n",
      "portability portability\n",
      "performance\n",
      "performance operation performance\n",
      "code\n",
      "code code\n",
      "performance\n",
      "performance operation performance\n",
      "smartphone\n",
      "battery\n",
      "battery barrage battery\n",
      "truck\n",
      "truck hand truck truck\n",
      "camera\n",
      "portrait\n",
      "photograph\n",
      "camera television camera portrayal portrait photograph photograph\n",
      "company\n",
      "capitalization\n",
      "company caller party ship's company capitalization capitalization\n",
      "durability\n",
      "lastingness durability\n",
      "beverage\n",
      "calorie\n",
      "glass\n",
      "beer\n",
      "cider\n",
      "beverage Calorie calorie glass field glass methamphetamine looking glass glaze beer cider cider\n",
      "admission\n",
      "rate\n",
      "admission entrance fee entree rate pace rate\n",
      "pasta\n",
      "pasta pasta\n",
      "city\n",
      "expensive\n",
      "city expensive expensive\n",
      "basketball\n",
      "soccer\n",
      "player\n",
      "basketball soccer player musician actor player\n"
     ]
    }
   ],
   "source": [
    "df = pd.read_csv('data/q_for_syn.tsv', sep = '\\t')\n",
    "df = df.fillna(0)\n",
    "\n",
    "#query ='difference sex love'\n",
    "#tokenized = word_tokenize(query)\n",
    "\n",
    "\n",
    "# In[232]:\n",
    "\n",
    "for idx, row in df.iterrows():\n",
    "    if row['objs']!=0:\n",
    "        tokenized = word_tokenize(row['objs'])\n",
    "        pos_tagged = nltk.pos_tag(tokenized)\n",
    "        satz_synonyms = []\n",
    "        for wort in pos_tagged:\n",
    "            if  wort[1] != 'RB' and wort[1] != 'JJ' and wort[1] != 'JJS' and wort[1]!='RBR'and wort[1]!='RBS':\n",
    "                print(wort[0])\n",
    "                for syn in wordnet.synsets(wort[0]):\n",
    "                    for l in syn.lemmas()[:1]:\n",
    "                        for n in l.name().split():\n",
    "                            if n not in satz_synonyms:\n",
    "                                satz_synonyms.append(n)\n",
    "        else:\n",
    "            satz_synonyms.append(wort[0])\n",
    "    #satz_synonyms = [w.split('_') for w in satz_synonyms]\n",
    "        #print(satz_synonyms[0])\n",
    "        #print(type(satz_synonyms))\n",
    "        s = ' '.join(str(v) for v in satz_synonyms)\n",
    "        s = ''.join(s)\n",
    "        s = s.split('_')\n",
    "        s = ' '.join(s)\n",
    "        print(s)\n",
    "        df.at[idx,['syn']] = s\n",
    "\n",
    "\n",
    "\n",
    "# In[233]:\n",
    "\n",
    "\n"
   ]
  },
  {
   "cell_type": "code",
   "execution_count": 19,
   "metadata": {},
   "outputs": [],
   "source": [
    "df.to_csv('data/q_for_syn.tsv', sep = '\\t', index = False)"
   ]
  }
 ],
 "metadata": {
  "kernelspec": {
   "display_name": "Python 3",
   "language": "python",
   "name": "python3"
  },
  "language_info": {
   "codemirror_mode": {
    "name": "ipython",
    "version": 3
   },
   "file_extension": ".py",
   "mimetype": "text/x-python",
   "name": "python",
   "nbconvert_exporter": "python",
   "pygments_lexer": "ipython3",
   "version": "3.7.6"
  }
 },
 "nbformat": 4,
 "nbformat_minor": 4
}
