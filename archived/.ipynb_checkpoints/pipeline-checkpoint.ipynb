{
 "cells": [
  {
   "cell_type": "markdown",
   "metadata": {},
   "source": [
    "## Data Retrieval"
   ]
  },
  {
   "cell_type": "code",
   "execution_count": 11,
   "metadata": {},
   "outputs": [],
   "source": [
    "import json\n",
    "import re\n",
    "import requests\n",
    "import pickle\n",
    "from boilerpy3 import extractors\n",
    "from urllib.error import HTTPError"
   ]
  },
  {
   "cell_type": "code",
   "execution_count": null,
   "metadata": {},
   "outputs": [],
   "source": [
    "#open the file with topics\n",
    "\n",
    "f = open(\"data/topics.json\", encoding='utf8')\n",
    "topics = json.load(f)\n",
    "\n",
    "#open the file with amount of results for each topic\n",
    "with open(\"data/results.txt\", \"rb\") as fp:   # Unpickling\n",
    "    res = pickle.load(fp)\n",
    "    \n",
    "print(res)\n"
   ]
  },
  {
   "cell_type": "code",
   "execution_count": null,
   "metadata": {},
   "outputs": [],
   "source": [
    "topics[0]"
   ]
  },
  {
   "cell_type": "code",
   "execution_count": null,
   "metadata": {},
   "outputs": [],
   "source": [
    "for t in topics:\n",
    "    print(t['number'])\n",
    "    print(t['title'])\n",
    "    print('\\n')"
   ]
  },
  {
   "cell_type": "code",
   "execution_count": null,
   "metadata": {},
   "outputs": [],
   "source": [
    "topics[8]['results']"
   ]
  },
  {
   "cell_type": "code",
   "execution_count": null,
   "metadata": {},
   "outputs": [],
   "source": [
    "#preprocess the queries\n",
    "\n",
    "for i in range(len(topics)):\n",
    "    topics[i]['title'] = topics[i]['title'].replace(' ', ' AND ')\n",
    "    topics[i]['title'] = re.sub('[?:,]', '', topics[i]['title'])\n",
    "    topics[i]['results'] = res[i]\n"
   ]
  },
  {
   "cell_type": "code",
   "execution_count": null,
   "metadata": {},
   "outputs": [],
   "source": [
    "attr = {\"apikey\": \"7dd15626-53aa-46c6-bd34-b2feaa2d9d81\",\n",
    "        \"query\": \"\",\n",
    "        \"index\": \"cw12\",\n",
    "        \"size\": 10\n",
    "       }"
   ]
  },
  {
   "cell_type": "code",
   "execution_count": null,
   "metadata": {},
   "outputs": [],
   "source": [
    "extractor = extractors.ArticleExtractor()\n",
    "\n",
    "\n",
    "def topics_iter(q):\n",
    "    docs = []\n",
    "    attr[\"query\"] = q['title']\n",
    "    #attr['size'] = q['results']\n",
    "    if q['results']<=10000:\n",
    "        num_of_res = q['results']\n",
    "    else:\n",
    "        num_of_res = 10000\n",
    "    count = 0\n",
    "    print(attr)\n",
    "    #print(num_of_res)\n",
    "    url = \"https://www.chatnoir.eu/api/v1/_search?\"\n",
    "    while count < num_of_res:\n",
    "        attr[\"from\"] = count\n",
    "        while True:\n",
    "            try:\n",
    "                r = requests.post(url, data = attr)\n",
    "                res = r.json()\n",
    "                #print(count)\n",
    "                #print(res)\n",
    "                res_len = len(res['results'])\n",
    "                #print(res_len)\n",
    "            except KeyError:\n",
    "                continue\n",
    "            break\n",
    "        \n",
    "    \n",
    "        for i in range(res_len):\n",
    "            \n",
    "            doc_url = \"https://www.chatnoir.eu/cache?uuid=\"+res['results'][i]['uuid']+\"&index=cw12&raw\"\n",
    "            #print(doc_url)\n",
    "            while True:\n",
    "                try:\n",
    "                    doc = extractor.get_doc_from_url(doc_url)\n",
    "                    content = doc.content\n",
    "                    title = doc.title\n",
    "                    res['results'][i]['document'] = content\n",
    "                    break\n",
    "                except ValueError:\n",
    "                    print(\"JSONDecodeError\")\n",
    "                except HTTPError:\n",
    "                    print(\"HTTPError\")\n",
    "                    #continue\n",
    "                    break\n",
    "        docs.append(res['results'])\n",
    "        count+=10\n",
    "        \n",
    "    return docs"
   ]
  },
  {
   "cell_type": "code",
   "execution_count": null,
   "metadata": {},
   "outputs": [],
   "source": [
    "topics[0]"
   ]
  },
  {
   "cell_type": "code",
   "execution_count": null,
   "metadata": {},
   "outputs": [],
   "source": [
    "for q in topics[40:41]:\n",
    "    q['documents'] = topics_iter(q)\n",
    "    with open(\"data/docs/docs_for_topic_{}.txt\".format(q['number']), \"w\") as f:\n",
    "        json.dump(q, f)\n",
    "        \n",
    "    f.close()"
   ]
  },
  {
   "cell_type": "code",
   "execution_count": null,
   "metadata": {},
   "outputs": [],
   "source": [
    "#r = requests.get(\"https://www.chatnoir.eu/api/v1/_search?apikey=7dd15626-53aa-46c6-bd34-b2feaa2d9d81&query=hello%20world&index=cw12&pretty\")"
   ]
  },
  {
   "cell_type": "code",
   "execution_count": null,
   "metadata": {},
   "outputs": [],
   "source": [
    "#res = r.json()\n",
    "#print(res[\"results\"])"
   ]
  },
  {
   "cell_type": "code",
   "execution_count": null,
   "metadata": {},
   "outputs": [],
   "source": [
    "#len(res[\"results\"])"
   ]
  },
  {
   "cell_type": "code",
   "execution_count": null,
   "metadata": {},
   "outputs": [],
   "source": [
    "with open('data/results_for_indexing.json', 'w') as f:\n",
    "    json.dump(results, f)\n",
    "    \n",
    "'''f = open('first50.json')\n",
    "check = json.load(f)'''"
   ]
  },
  {
   "cell_type": "markdown",
   "metadata": {},
   "source": [
    "## Indexing"
   ]
  },
  {
   "cell_type": "code",
   "execution_count": null,
   "metadata": {},
   "outputs": [],
   "source": [
    "#f = open('first50.json')\n",
    "#check = json.load(f)"
   ]
  },
  {
   "cell_type": "code",
   "execution_count": null,
   "metadata": {},
   "outputs": [],
   "source": [
    "#check[0]"
   ]
  },
  {
   "cell_type": "code",
   "execution_count": null,
   "metadata": {},
   "outputs": [],
   "source": [
    "#f = open(\"data/topics.json\", encoding='utf8')\n",
    "#topics = json.load(f)"
   ]
  },
  {
   "cell_type": "code",
   "execution_count": null,
   "metadata": {},
   "outputs": [],
   "source": [
    "#count = 0\n",
    "#for x in topics:\n",
    " #   check[count]['query'] = x['title']\n",
    " #   count+=1"
   ]
  },
  {
   "cell_type": "code",
   "execution_count": null,
   "metadata": {},
   "outputs": [],
   "source": [
    "pip install elasticsearch"
   ]
  },
  {
   "cell_type": "code",
   "execution_count": 8,
   "metadata": {},
   "outputs": [],
   "source": [
    "from elasticsearch import Elasticsearch\n",
    "from elasticsearch import helpers"
   ]
  },
  {
   "cell_type": "code",
   "execution_count": 9,
   "metadata": {},
   "outputs": [],
   "source": [
    "es = Elasticsearch()"
   ]
  },
  {
   "cell_type": "code",
   "execution_count": null,
   "metadata": {},
   "outputs": [],
   "source": [
    "i=1\n",
    "count = 0\n",
    "while i<=50:\n",
    "    with open(\"data/docs/docs_for_topic_{}.txt\".format(i), \"r\") as f:\n",
    "        #arr.append(json.load(f))\n",
    "        topic = json.load(f)\n",
    "        for n in topic[\"documents\"]:\n",
    "            for doc in n:\n",
    "            #print(doc['target_uri'])\n",
    "            #print(doc['title'])\n",
    "                try:\n",
    "                    b = {\n",
    "                    'query': topic['title'],\n",
    "                    'title': doc['title'],\n",
    "                    'uuid': doc['uuid'],\n",
    "                    'score': doc['score'],\n",
    "                    'document': doc['document']\n",
    "                        }\n",
    "                    es.index(index='test_index',doc_type='doc',id=doc['trec_id'],body=b)\n",
    "                except:\n",
    "                    count+=1\n",
    "            \n",
    "        i+=1\n",
    "        \n",
    "print(count)"
   ]
  },
  {
   "cell_type": "code",
   "execution_count": 13,
   "metadata": {},
   "outputs": [
    {
     "data": {
      "text/plain": [
       "{'acknowledged': True}"
      ]
     },
     "execution_count": 13,
     "metadata": {},
     "output_type": "execute_result"
    }
   ],
   "source": [
    "es.indices.delete(index='test_index')"
   ]
  },
  {
   "cell_type": "code",
   "execution_count": null,
   "metadata": {},
   "outputs": [],
   "source": []
  }
 ],
 "metadata": {
  "kernelspec": {
   "display_name": "Python 3",
   "language": "python",
   "name": "python3"
  },
  "language_info": {
   "codemirror_mode": {
    "name": "ipython",
    "version": 3
   },
   "file_extension": ".py",
   "mimetype": "text/x-python",
   "name": "python",
   "nbconvert_exporter": "python",
   "pygments_lexer": "ipython3",
   "version": "3.7.6"
  }
 },
 "nbformat": 4,
 "nbformat_minor": 2
}
