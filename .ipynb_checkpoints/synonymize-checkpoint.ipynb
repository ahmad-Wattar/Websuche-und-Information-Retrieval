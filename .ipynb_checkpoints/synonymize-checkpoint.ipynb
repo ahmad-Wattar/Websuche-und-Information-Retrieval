{
 "cells": [
  {
   "cell_type": "code",
   "execution_count": 13,
   "metadata": {},
   "outputs": [],
   "source": [
    "import sys\n",
    "import os\n",
    "from elasticsearch import Elasticsearch\n",
    "from zipfile import ZipFile\n",
    "import re\n",
    "import pandas as pd\n",
    "import json\n",
    "import pickle\n",
    "\n",
    "\n",
    "es = Elasticsearch()"
   ]
  },
  {
   "cell_type": "code",
   "execution_count": 14,
   "metadata": {},
   "outputs": [
    {
     "data": {
      "text/plain": [
       "True"
      ]
     },
     "execution_count": 14,
     "metadata": {},
     "output_type": "execute_result"
    }
   ],
   "source": [
    "es.indices.exists(index=\"test_index\")\n",
    "#falls False, erst einen Index erstellen mithilfe von indexing_full.ipynb"
   ]
  },
  {
   "cell_type": "code",
   "execution_count": 15,
   "metadata": {},
   "outputs": [],
   "source": [
    "with open ('data/topics_lemmatized.txt', 'rb') as fp:\n",
    "    queries = pickle.load(fp)"
   ]
  },
  {
   "cell_type": "code",
   "execution_count": null,
   "metadata": {},
   "outputs": [],
   "source": [
    "#hier sollte man queries mithilfe von WordNet um- bzw. erweitern"
   ]
  },
  {
   "cell_type": "code",
   "execution_count": 17,
   "metadata": {},
   "outputs": [],
   "source": [
    "search_param = {\n",
    "    'size': 50,\n",
    "    \"query\": {\n",
    "         'match': {\n",
    "            \"title\": ''\n",
    "        }\n",
    "    }\n",
    "}\n",
    "\n",
    "qid = []\n",
    "Q0 = []\n",
    "doc = []\n",
    "rank = []\n",
    "score = []\n",
    "tag = []\n",
    "\n",
    "num=1\n",
    "for i in queries:\n",
    "    search_param['query']['match']['title'] = i\n",
    "    response = es.search(index=\"test_index\", body=search_param)\n",
    "    r = 1\n",
    "    for x in response['hits']['hits']:\n",
    "        qid.append(num)\n",
    "        Q0.append('Q0')\n",
    "        doc.append(x['_id'])\n",
    "        rank.append(r)\n",
    "        score.append(x['_score'])\n",
    "        tag.append('uh-t2-thor')\n",
    "        r+=1\n",
    "    num+=1\n",
    "        \n",
    "qrels = {'qid': qid, 'Q0': Q0, 'doc': doc, 'rank':rank, 'score':score, 'tag':tag}\n",
    "df = pd.DataFrame(qrels)\n",
    "df.to_csv(('results/run_lem.txt'), sep = ' ', index = False, header = False)\n"
   ]
  }
 ],
 "metadata": {
  "kernelspec": {
   "display_name": "Python 3",
   "language": "python",
   "name": "python3"
  },
  "language_info": {
   "codemirror_mode": {
    "name": "ipython",
    "version": 3
   },
   "file_extension": ".py",
   "mimetype": "text/x-python",
   "name": "python",
   "nbconvert_exporter": "python",
   "pygments_lexer": "ipython3",
   "version": "3.7.6"
  }
 },
 "nbformat": 4,
 "nbformat_minor": 4
}
