{
 "cells": [
  {
   "cell_type": "code",
   "execution_count": null,
   "metadata": {},
   "outputs": [],
   "source": [
    "!pip install boilerpy3"
   ]
  },
  {
   "cell_type": "code",
   "execution_count": null,
   "metadata": {},
   "outputs": [],
   "source": [
    "import json\n",
    "import re\n",
    "import requests\n",
    "from boilerpy3 import extractors"
   ]
  },
  {
   "cell_type": "code",
   "execution_count": null,
   "metadata": {},
   "outputs": [],
   "source": [
    "#open the file\n",
    "\n",
    "f = open(\"topics.json\", encoding='utf8')\n",
    "topics = json.load(f)\n"
   ]
  },
  {
   "cell_type": "code",
   "execution_count": null,
   "metadata": {},
   "outputs": [],
   "source": [
    "total_ergebnisse = []\n",
    "\n",
    "web_ergebnisse = []\n",
    "\n",
    "target_uri_ergebnisse = []\n"
   ]
  },
  {
   "cell_type": "code",
   "execution_count": null,
   "metadata": {},
   "outputs": [],
   "source": [
    "#preprocess the queries\n",
    "\n",
    "for i in range(len(topics)):\n",
    "    topics[i]['title'] = topics[i]['title'].replace(' ', ' AND ')\n",
    "    topics[i]['title'] = re.sub('[?:,]', '', topics[i]['title'])\n",
    "\n",
    "topics"
   ]
  },
  {
   "cell_type": "code",
   "execution_count": null,
   "metadata": {},
   "outputs": [],
   "source": [
    "attr = {\"apikey\": \"7dd15626-53aa-46c6-bd34-b2feaa2d9d81\",\n",
    "        \"query\": \"\",\n",
    "        \"index\": \"cw12\",\n",
    "        \"size\": 50\n",
    "        }"
   ]
  },
  {
   "cell_type": "code",
   "execution_count": null,
   "metadata": {},
   "outputs": [],
   "source": [
    "#send queries to ChatNoir and collect the number of results and some information (score,uuid,trec_id,......)\n",
    "\n",
    "for q in topics:\n",
    "    attr[\"query\"] = q['title']\n",
    "    url = \"https://www.chatnoir.eu/api/v1/_search?\"\n",
    "    r = requests.get(url, attr)\n",
    "    \n",
    "    total_ergebnisse.append(r.json()['meta']['total_results'])\n",
    "    \n",
    "    for i in range(len(r.json()['results'])):\n",
    "        \n",
    "        score = r.json()['results'][i]['score']\n",
    "        uuid = r.json()['results'][i]['uuid']\n",
    "        index = r.json()['results'][i]['index']\n",
    "        trec_id = r.json()['results'][i]['trec_id']\n",
    "        target_hostname = r.json()['results'][i]['target_hostname']\n",
    "        page_rank = r.json()['results'][i]['page_rank']\n",
    "        spam_rank = r.json()['results'][i]['spam_rank']\n",
    "        web_ergebnisse.append((score,uuid,index, trec_id,target_hostname,page_rank,spam_rank))\n",
    "        \n",
    "        target_uri = r.json()['results'][i]['target_uri']\n",
    "        target_uri_ergebnisse.append(target_uri)\n",
    "    "
   ]
  },
  {
   "cell_type": "code",
   "execution_count": null,
   "metadata": {},
   "outputs": [],
   "source": [
    "total_ergebnisse\n"
   ]
  },
  {
   "cell_type": "code",
   "execution_count": null,
   "metadata": {},
   "outputs": [],
   "source": [
    "web_ergebnisse"
   ]
  },
  {
   "cell_type": "code",
   "execution_count": null,
   "metadata": {},
   "outputs": [],
   "source": [
    "target_uri_ergebnisse"
   ]
  },
  {
   "cell_type": "code",
   "execution_count": null,
   "metadata": {},
   "outputs": [],
   "source": [
    "#extract the contents of the first 50 web page for each query using Boilerpipe\n",
    "#save the results in demofile2.txt\n",
    "\n",
    "extractor = extractors.ArticleExtractor()\n",
    "\n",
    "f = open(\"demofile2.txt\", \"w\", encoding='utf8')\n",
    "for i in target_uri_ergebnisse:\n",
    "    try:\n",
    "        resp = requests.get(i)\n",
    "        content = extractor.get_content(resp.text)\n",
    "        f.write(content + \"\\n\"+ \"\\n\"+ \"\\n\"+ \"\\n\"+ \"\\n\"+ \"\\n\" )\n",
    "    except requests.exceptions.RequestException as e:\n",
    "        pass\n",
    "    except AttributeError:\n",
    "        pass\n",
    "    except IndexError:\n",
    "        pass\n",
    "\n",
    "f.close()"
   ]
  },
  {
   "cell_type": "code",
   "execution_count": null,
   "metadata": {},
   "outputs": [],
   "source": []
  },
  {
   "cell_type": "code",
   "execution_count": null,
   "metadata": {},
   "outputs": [],
   "source": []
  }
 ],
 "metadata": {
  "kernelspec": {
   "display_name": "Python 3",
   "language": "python",
   "name": "python3"
  },
  "language_info": {
   "codemirror_mode": {
    "name": "ipython",
    "version": 3
   },
   "file_extension": ".py",
   "mimetype": "text/x-python",
   "name": "python",
   "nbconvert_exporter": "python",
   "pygments_lexer": "ipython3",
   "version": "3.7.6"
  }
 },
 "nbformat": 4,
 "nbformat_minor": 4
}
